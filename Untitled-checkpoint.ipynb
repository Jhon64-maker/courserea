{
 "cells": [
  {
   "cell_type": "code",
   "execution_count": 3,
   "id": "9ba52785-3269-4e75-b939-275f1e980e8c",
   "metadata": {},
   "outputs": [],
   "source": [
    "# Title of My Notebook"
   ]
  },
  {
   "cell_type": "markdown",
   "id": "8807e7b8-e4ec-452c-a96e-eee523201e52",
   "metadata": {},
   "source": []
  }
 ],
 "metadata": {
  "kernelspec": {
   "display_name": "Python 3 (ipykernel)",
   "language": "python",
   "name": "python3"
  },
  "language_info": {
   "codemirror_mode": {
    "name": "ipython",
    "version": 3
   },
   "file_extension": ".py",
   "mimetype": "text/x-python",
   "name": "python",
   "nbconvert_exporter": "python",
   "pygments_lexer": "ipython3",
   "version": "3.11.7"
  }
 },
 "nbformat": 4,
 "nbformat_minor": 5
}
